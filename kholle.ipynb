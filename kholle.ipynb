{
 "cells": [
  {
   "cell_type": "markdown",
   "metadata": {},
   "source": [
    "Exercice 1:\n",
    "\n",
    "Ce programme génère une erreur liée à l'indentation de la troisième ligne\n",
    "car après un if, il faut indenter le bloc qui s'execute si la condition\n",
    "est vérifiée."
   ]
  },
  {
   "cell_type": "markdown",
   "metadata": {},
   "source": [
    "Exercice 2 :"
   ]
  },
  {
   "cell_type": "code",
   "execution_count": 3,
   "metadata": {},
   "outputs": [
    {
     "name": "stdout",
     "output_type": "stream",
     "text": [
      "Le triangle T n'est pas rectangle. (Le théorème de Pythagore n'est pas vérifié)\n"
     ]
    }
   ],
   "source": [
    "x = 10\n",
    "y = 9\n",
    "z = 11\n",
    "\n",
    "#   Théorème de Pythagore : c**2 = a**2 + b**2, où a, b et c sont les\n",
    "#   longueurs des côtés du triangle rectangle T dont c est l'hypothénuse\n",
    "\n",
    "if x**2 + y**2 == z**2 or y**2 + z**2 == x**2 or x**2 + z**2 == y**2:\n",
    "    print(\"Le triangle T est rectangle. (Il vérifie le théorème de Pythagore)\")\n",
    "else:\n",
    "    print(\"Le triangle T n'est pas rectangle. (Le théorème de Pythagore n'est \\\n",
    "pas vérifié)\")"
   ]
  },
  {
   "cell_type": "markdown",
   "metadata": {},
   "source": [
    "Exercice 3 :"
   ]
  },
  {
   "cell_type": "code",
   "execution_count": 9,
   "metadata": {},
   "outputs": [
    {
     "name": "stdout",
     "output_type": "stream",
     "text": [
      "La somme de tous les entiers divisibles par n entre 1 et 100 000 est 1000050000\n"
     ]
    }
   ],
   "source": [
    "n = 0\n",
    "\n",
    "while n<1 or n>10:\n",
    "    n = int(input(\"Choisissez un nombre entre 1 et 10 : \"))\n",
    "somme = 0\n",
    "\n",
    "#       Il n'est pas nécessaire de vérifier pour les nombres inférieurs à n\n",
    "#   car un nombre n supérieur à un nombre n' ne peut pas être un de ses\n",
    "#   diviseurs.\n",
    "\n",
    "for i in range(n, 100001):\n",
    "    if i % n == 0:\n",
    "        somme += i\n",
    "\n",
    "print(\"La somme de tous les entiers divisibles par n entre 1 et \\\n",
    "100 000 est\", somme)"
   ]
  },
  {
   "cell_type": "code",
   "execution_count": null,
   "metadata": {},
   "outputs": [],
   "source": []
  }
 ],
 "metadata": {
  "kernelspec": {
   "display_name": "Python 3.10.4 ('l1-python')",
   "language": "python",
   "name": "python3"
  },
  "language_info": {
   "codemirror_mode": {
    "name": "ipython",
    "version": 3
   },
   "file_extension": ".py",
   "mimetype": "text/x-python",
   "name": "python",
   "nbconvert_exporter": "python",
   "pygments_lexer": "ipython3",
   "version": "3.10.4"
  },
  "orig_nbformat": 4,
  "vscode": {
   "interpreter": {
    "hash": "5543526189dc5107350e35ea0e8695b50fb979b5a2d8ddd77b379a9933cc3714"
   }
  }
 },
 "nbformat": 4,
 "nbformat_minor": 2
}
