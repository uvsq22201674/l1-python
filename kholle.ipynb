{
 "cells": [
  {
   "cell_type": "markdown",
   "metadata": {},
   "source": [
    "Exercice 1"
   ]
  },
  {
   "cell_type": "code",
   "execution_count": 1,
   "metadata": {},
   "outputs": [
    {
     "name": "stdout",
     "output_type": "stream",
     "text": [
      "Week-end !\n"
     ]
    }
   ],
   "source": [
    "def weekend(jour):\n",
    "    '''Affiche si jour est un jours de week-end'''\n",
    "\n",
    "    jour = jour.lower()\n",
    "\n",
    "    if jour == \"samedi\" or jour == \"dimanche\":\n",
    "        print(\"Week-end !\")\n",
    "    else:\n",
    "        print(\"Pas week-end...\")\n",
    "\n",
    "\n",
    "weekend(\"Samedi\")"
   ]
  },
  {
   "cell_type": "markdown",
   "metadata": {},
   "source": [
    "Exercice 2"
   ]
  },
  {
   "cell_type": "code",
   "execution_count": 2,
   "metadata": {},
   "outputs": [
    {
     "name": "stdout",
     "output_type": "stream",
     "text": [
      "[1, 3, 5]\n",
      "[2]\n",
      "True\n",
      "False\n"
     ]
    }
   ],
   "source": [
    "def lieux_trop_visiter(visites):\n",
    "    '''Renvoie la liste des lieux visités plus d'une fois'''\n",
    "\n",
    "    resultat = []\n",
    "\n",
    "    for lieu in range(len(visites)):\n",
    "\n",
    "        if len(visites[lieu]) > 1:\n",
    "            resultat.append(lieu + 1)\n",
    "\n",
    "    return resultat\n",
    "\n",
    "\n",
    "def lieux_jamais_visiter(visites):\n",
    "    '''Renvoie la liste des lieux jamais visités'''\n",
    "\n",
    "    resultat = []\n",
    "\n",
    "    for lieu in range(len(visites)):\n",
    "\n",
    "        if len(visites[lieu]) == 0:\n",
    "            resultat.append(lieu + 1)\n",
    "\n",
    "    return resultat\n",
    "\n",
    "\n",
    "def echangeable(visites):\n",
    "    '''Renvoie True si tous les lieux ont été visités ou si le nombre de lieux\n",
    "    visités plus d'une fois est supérieur au nombre de lieux non visités'''\n",
    "    \n",
    "    all_visited = True\n",
    "\n",
    "    if len(lieux_jamais_visiter(visites)) > 0:\n",
    "        all_visited = False\n",
    "\n",
    "    more_toomuch_visited = True\n",
    "\n",
    "    if len(lieux_trop_visiter(visites)) <= len(lieux_jamais_visiter(visites)):\n",
    "        more_toomuch_visited = False\n",
    "\n",
    "    if all_visited or more_toomuch_visited:\n",
    "        return True\n",
    "    else:\n",
    "        return False\n",
    "\n",
    "\n",
    "planning = [[2, 4, 7], [], [2, 3], [1], [2, 4]]\n",
    "\n",
    "print(lieux_trop_visiter(planning))\n",
    "print(lieux_jamais_visiter(planning))\n",
    "\n",
    "is_echangeable = [[1, 2], [3, 4], [5], []]\n",
    "is_not_echangeable = [[3, 4], [], []]\n",
    "\n",
    "print(echangeable(is_echangeable))\n",
    "print(echangeable(is_not_echangeable))\n"
   ]
  },
  {
   "cell_type": "code",
   "execution_count": null,
   "metadata": {},
   "outputs": [],
   "source": []
  }
 ],
 "metadata": {
  "kernelspec": {
   "display_name": "Python 3.10.4 ('l1-python')",
   "language": "python",
   "name": "python3"
  },
  "language_info": {
   "codemirror_mode": {
    "name": "ipython",
    "version": 3
   },
   "file_extension": ".py",
   "mimetype": "text/x-python",
   "name": "python",
   "nbconvert_exporter": "python",
   "pygments_lexer": "ipython3",
   "version": "3.10.4"
  },
  "orig_nbformat": 4,
  "vscode": {
   "interpreter": {
    "hash": "5543526189dc5107350e35ea0e8695b50fb979b5a2d8ddd77b379a9933cc3714"
   }
  }
 },
 "nbformat": 4,
 "nbformat_minor": 2
}
